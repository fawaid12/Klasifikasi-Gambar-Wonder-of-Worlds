{
 "cells": [
  {
   "attachments": {},
   "cell_type": "markdown",
   "metadata": {
    "id": "H9wADwK78DCz"
   },
   "source": [
    "# Proyek Klasifikasi Gambar: Wonders of World\n",
    "- **Nama:** Muhammad Fawaid As'ad\n",
    "- **Email:** muhammadfawaidasad@gmail.com\n",
    "- **ID Dicoding:** fawaid27\n",
    "\n",
    "## Import Semua Packages/Library yang Digunakan"
   ]
  },
  {
   "cell_type": "code",
   "execution_count": 1,
   "metadata": {
    "id": "FVYwaObI8DC1"
   },
   "outputs": [],
   "source": [
    "import os\n",
    "import shutil\n",
    "import splitfolders\n",
    "from collections import Counter\n",
    "import kagglehub\n",
    "\n",
    "import tensorflow as tf\n",
    "from tensorflow.keras.preprocessing.image import ImageDataGenerator\n",
    "from tensorflow.keras.applications import MobileNet\n",
    "from tensorflow.keras.models import Sequential\n",
    "from tensorflow.keras.layers import Conv2D, MaxPooling2D, Flatten, Dense, Dropout, BatchNormalization, GlobalAveragePooling2D, Input, LeakyReLU\n",
    "from tensorflow.keras.optimizers import Adam\n",
    "from tensorflow.keras.callbacks import EarlyStopping, ModelCheckpoint, ReduceLROnPlateau, Callback\n",
    "\n",
    "import numpy as np\n",
    "import matplotlib.pyplot as plt\n",
    "import seaborn as sns\n",
    "from sklearn.metrics import classification_report, confusion_matrix\n",
    "\n",
    "import random\n",
    "import cv2"
   ]
  },
  {
   "cell_type": "markdown",
   "metadata": {
    "id": "TK4DvqfbYrN8"
   },
   "source": [
    "## Data Preparation"
   ]
  },
  {
   "cell_type": "markdown",
   "metadata": {
    "id": "HHekw29KX4XQ"
   },
   "source": [
    "### Data Loading"
   ]
  },
  {
   "cell_type": "code",
   "execution_count": 3,
   "metadata": {
    "id": "wIcv1F9fX4XQ"
   },
   "outputs": [
    {
     "name": "stdout",
     "output_type": "stream",
     "text": [
      "Downloading from https://www.kaggle.com/api/v1/datasets/download/balabaskar/wonders-of-the-world-image-classification?dataset_version_number=2...\n"
     ]
    },
    {
     "name": "stderr",
     "output_type": "stream",
     "text": [
      "100%|██████████| 432M/432M [05:28<00:00, 1.38MB/s] "
     ]
    },
    {
     "name": "stdout",
     "output_type": "stream",
     "text": [
      "Extracting files...\n"
     ]
    },
    {
     "name": "stderr",
     "output_type": "stream",
     "text": [
      "\n"
     ]
    }
   ],
   "source": [
    "# Download dataset dari KaggleHub\n",
    "dataset_path = kagglehub.dataset_download(\"balabaskar/wonders-of-the-world-image-classification\")\n",
    "raw_data_dir = os.path.join(dataset_path, \"wonders_dataset\")"
   ]
  },
  {
   "cell_type": "code",
   "execution_count": 2,
   "metadata": {},
   "outputs": [
    {
     "name": "stdout",
     "output_type": "stream",
     "text": [
      "\n",
      "4 kelas dengan jumlah gambar terbanyak:\n",
      "roman_colosseum: 394 gambar\n",
      "machu_pichu: 393 gambar\n",
      "great_wall_of_china: 392 gambar\n",
      "eiffel_tower: 391 gambar\n"
     ]
    }
   ],
   "source": [
    "# Hitung kelas dengan gambar terbanyak\n",
    "def count_top_classes(directory, top_n=4):\n",
    "    class_counts = {}\n",
    "    for class_name in os.listdir(directory):\n",
    "        class_path = os.path.join(directory, class_name)\n",
    "        if os.path.isdir(class_path):\n",
    "            count = len([\n",
    "                file for file in os.listdir(class_path)\n",
    "                if file.lower().endswith(('jpg', 'jpeg', 'png'))\n",
    "            ])\n",
    "            class_counts[class_name] = count\n",
    "    sorted_counts = Counter(class_counts).most_common(top_n)\n",
    "    print(f\"\\n{top_n} kelas dengan jumlah gambar terbanyak:\")\n",
    "    for class_name, count in sorted_counts:\n",
    "        print(f\"{class_name}: {count} gambar\")\n",
    "    return [cls for cls, _ in sorted_counts]\n",
    "\n",
    "top_classes = count_top_classes('Wonders of World')"
   ]
  },
  {
   "cell_type": "code",
   "execution_count": 3,
   "metadata": {},
   "outputs": [],
   "source": [
    "# Salin 4 kelas teratas ke folder baru\n",
    "filtered_dir = \"wonders_dataset_filtered\"\n",
    "if os.path.exists(filtered_dir):\n",
    "    shutil.rmtree(filtered_dir)\n",
    "os.makedirs(filtered_dir)\n",
    "\n",
    "for cls in top_classes:\n",
    "    src = os.path.join('Wonders of World', cls)\n",
    "    dst = os.path.join(filtered_dir, cls)\n",
    "    shutil.copytree(src, dst)"
   ]
  },
  {
   "cell_type": "markdown",
   "metadata": {
    "id": "bFgLyQPHX98s"
   },
   "source": [
    "### Data Preprocessing"
   ]
  },
  {
   "cell_type": "markdown",
   "metadata": {
    "id": "9ICO2-E0YxzD"
   },
   "source": [
    "#### Split Dataset"
   ]
  },
  {
   "cell_type": "code",
   "execution_count": 4,
   "metadata": {
    "id": "8HJokQbxX98s"
   },
   "outputs": [
    {
     "name": "stderr",
     "output_type": "stream",
     "text": [
      "Copying files: 1570 files [00:01, 919.33 files/s]\n"
     ]
    }
   ],
   "source": [
    "# Split ke train/val/test\n",
    "splitfolders.ratio(filtered_dir, output=\"wonders_split\", seed=42, ratio=(.7, .15, .15))"
   ]
  },
  {
   "cell_type": "code",
   "execution_count": 5,
   "metadata": {},
   "outputs": [
    {
     "name": "stdout",
     "output_type": "stream",
     "text": [
      "Found 1097 images belonging to 4 classes.\n",
      "Found 233 images belonging to 4 classes.\n",
      "Found 240 images belonging to 4 classes.\n"
     ]
    }
   ],
   "source": [
    "\n",
    "train_datagen = ImageDataGenerator(\n",
    "    rescale=1./255,\n",
    "    rotation_range=20,\n",
    "    zoom_range=0.2,\n",
    "    width_shift_range=0.1,\n",
    "    height_shift_range=0.1,\n",
    "    horizontal_flip=True,\n",
    "    fill_mode='nearest'\n",
    ")\n",
    "val_test_datagen = ImageDataGenerator(rescale=1./255)\n",
    "\n",
    "train_generator = train_datagen.flow_from_directory(\n",
    "    \"wonders_split/train\",\n",
    "    target_size=(224, 224),\n",
    "    batch_size=32,\n",
    "    class_mode='categorical'\n",
    ")\n",
    "val_generator = val_test_datagen.flow_from_directory(\n",
    "    \"wonders_split/val\",\n",
    "    target_size=(224, 224),\n",
    "    batch_size=32,\n",
    "    class_mode='categorical'\n",
    ")\n",
    "test_generator = val_test_datagen.flow_from_directory(\n",
    "    \"wonders_split/test\",\n",
    "    target_size=(224, 224),\n",
    "    batch_size=32,\n",
    "    class_mode='categorical',\n",
    "    shuffle=False\n",
    ")\n",
    "\n",
    "num_classes = train_generator.num_classes\n"
   ]
  },
  {
   "cell_type": "markdown",
   "metadata": {
    "id": "nc-Ph-oIYAUU"
   },
   "source": [
    "## Modelling"
   ]
  },
  {
   "cell_type": "code",
   "execution_count": 6,
   "metadata": {
    "id": "UTwK0t8XYAUU"
   },
   "outputs": [],
   "source": [
    "# Load MobileNet tanpa top (tidak termasuk classifier-nya)\n",
    "mobilenet_base = MobileNet(include_top=False, weights='imagenet', input_shape=(224, 224, 3))"
   ]
  },
  {
   "cell_type": "code",
   "execution_count": 7,
   "metadata": {},
   "outputs": [],
   "source": [
    "mobilenet_base.trainable = True\n",
    "for layer in mobilenet_base.layers[:-20]:\n",
    "    layer.trainable = False"
   ]
  },
  {
   "cell_type": "code",
   "execution_count": 8,
   "metadata": {},
   "outputs": [
    {
     "data": {
      "text/html": [
       "<pre style=\"white-space:pre;overflow-x:auto;line-height:normal;font-family:Menlo,'DejaVu Sans Mono',consolas,'Courier New',monospace\"><span style=\"font-weight: bold\">Model: \"sequential\"</span>\n",
       "</pre>\n"
      ],
      "text/plain": [
       "\u001b[1mModel: \"sequential\"\u001b[0m\n"
      ]
     },
     "metadata": {},
     "output_type": "display_data"
    },
    {
     "data": {
      "text/html": [
       "<pre style=\"white-space:pre;overflow-x:auto;line-height:normal;font-family:Menlo,'DejaVu Sans Mono',consolas,'Courier New',monospace\">┏━━━━━━━━━━━━━━━━━━━━━━━━━━━━━━━━━┳━━━━━━━━━━━━━━━━━━━━━━━━┳━━━━━━━━━━━━━━━┓\n",
       "┃<span style=\"font-weight: bold\"> Layer (type)                    </span>┃<span style=\"font-weight: bold\"> Output Shape           </span>┃<span style=\"font-weight: bold\">       Param # </span>┃\n",
       "┡━━━━━━━━━━━━━━━━━━━━━━━━━━━━━━━━━╇━━━━━━━━━━━━━━━━━━━━━━━━╇━━━━━━━━━━━━━━━┩\n",
       "│ mobilenet_1.00_224 (<span style=\"color: #0087ff; text-decoration-color: #0087ff\">Functional</span>) │ (<span style=\"color: #00d7ff; text-decoration-color: #00d7ff\">None</span>, <span style=\"color: #00af00; text-decoration-color: #00af00\">7</span>, <span style=\"color: #00af00; text-decoration-color: #00af00\">7</span>, <span style=\"color: #00af00; text-decoration-color: #00af00\">1024</span>)     │     <span style=\"color: #00af00; text-decoration-color: #00af00\">3,228,864</span> │\n",
       "├─────────────────────────────────┼────────────────────────┼───────────────┤\n",
       "│ conv2d (<span style=\"color: #0087ff; text-decoration-color: #0087ff\">Conv2D</span>)                 │ (<span style=\"color: #00d7ff; text-decoration-color: #00d7ff\">None</span>, <span style=\"color: #00af00; text-decoration-color: #00af00\">7</span>, <span style=\"color: #00af00; text-decoration-color: #00af00\">7</span>, <span style=\"color: #00af00; text-decoration-color: #00af00\">64</span>)       │       <span style=\"color: #00af00; text-decoration-color: #00af00\">589,888</span> │\n",
       "├─────────────────────────────────┼────────────────────────┼───────────────┤\n",
       "│ leaky_re_lu (<span style=\"color: #0087ff; text-decoration-color: #0087ff\">LeakyReLU</span>)         │ (<span style=\"color: #00d7ff; text-decoration-color: #00d7ff\">None</span>, <span style=\"color: #00af00; text-decoration-color: #00af00\">7</span>, <span style=\"color: #00af00; text-decoration-color: #00af00\">7</span>, <span style=\"color: #00af00; text-decoration-color: #00af00\">64</span>)       │             <span style=\"color: #00af00; text-decoration-color: #00af00\">0</span> │\n",
       "├─────────────────────────────────┼────────────────────────┼───────────────┤\n",
       "│ batch_normalization             │ (<span style=\"color: #00d7ff; text-decoration-color: #00d7ff\">None</span>, <span style=\"color: #00af00; text-decoration-color: #00af00\">7</span>, <span style=\"color: #00af00; text-decoration-color: #00af00\">7</span>, <span style=\"color: #00af00; text-decoration-color: #00af00\">64</span>)       │           <span style=\"color: #00af00; text-decoration-color: #00af00\">256</span> │\n",
       "│ (<span style=\"color: #0087ff; text-decoration-color: #0087ff\">BatchNormalization</span>)            │                        │               │\n",
       "├─────────────────────────────────┼────────────────────────┼───────────────┤\n",
       "│ max_pooling2d (<span style=\"color: #0087ff; text-decoration-color: #0087ff\">MaxPooling2D</span>)    │ (<span style=\"color: #00d7ff; text-decoration-color: #00d7ff\">None</span>, <span style=\"color: #00af00; text-decoration-color: #00af00\">3</span>, <span style=\"color: #00af00; text-decoration-color: #00af00\">3</span>, <span style=\"color: #00af00; text-decoration-color: #00af00\">64</span>)       │             <span style=\"color: #00af00; text-decoration-color: #00af00\">0</span> │\n",
       "├─────────────────────────────────┼────────────────────────┼───────────────┤\n",
       "│ conv2d_1 (<span style=\"color: #0087ff; text-decoration-color: #0087ff\">Conv2D</span>)               │ (<span style=\"color: #00d7ff; text-decoration-color: #00d7ff\">None</span>, <span style=\"color: #00af00; text-decoration-color: #00af00\">3</span>, <span style=\"color: #00af00; text-decoration-color: #00af00\">3</span>, <span style=\"color: #00af00; text-decoration-color: #00af00\">128</span>)      │        <span style=\"color: #00af00; text-decoration-color: #00af00\">73,856</span> │\n",
       "├─────────────────────────────────┼────────────────────────┼───────────────┤\n",
       "│ leaky_re_lu_1 (<span style=\"color: #0087ff; text-decoration-color: #0087ff\">LeakyReLU</span>)       │ (<span style=\"color: #00d7ff; text-decoration-color: #00d7ff\">None</span>, <span style=\"color: #00af00; text-decoration-color: #00af00\">3</span>, <span style=\"color: #00af00; text-decoration-color: #00af00\">3</span>, <span style=\"color: #00af00; text-decoration-color: #00af00\">128</span>)      │             <span style=\"color: #00af00; text-decoration-color: #00af00\">0</span> │\n",
       "├─────────────────────────────────┼────────────────────────┼───────────────┤\n",
       "│ batch_normalization_1           │ (<span style=\"color: #00d7ff; text-decoration-color: #00d7ff\">None</span>, <span style=\"color: #00af00; text-decoration-color: #00af00\">3</span>, <span style=\"color: #00af00; text-decoration-color: #00af00\">3</span>, <span style=\"color: #00af00; text-decoration-color: #00af00\">128</span>)      │           <span style=\"color: #00af00; text-decoration-color: #00af00\">512</span> │\n",
       "│ (<span style=\"color: #0087ff; text-decoration-color: #0087ff\">BatchNormalization</span>)            │                        │               │\n",
       "├─────────────────────────────────┼────────────────────────┼───────────────┤\n",
       "│ max_pooling2d_1 (<span style=\"color: #0087ff; text-decoration-color: #0087ff\">MaxPooling2D</span>)  │ (<span style=\"color: #00d7ff; text-decoration-color: #00d7ff\">None</span>, <span style=\"color: #00af00; text-decoration-color: #00af00\">1</span>, <span style=\"color: #00af00; text-decoration-color: #00af00\">1</span>, <span style=\"color: #00af00; text-decoration-color: #00af00\">128</span>)      │             <span style=\"color: #00af00; text-decoration-color: #00af00\">0</span> │\n",
       "├─────────────────────────────────┼────────────────────────┼───────────────┤\n",
       "│ global_average_pooling2d        │ (<span style=\"color: #00d7ff; text-decoration-color: #00d7ff\">None</span>, <span style=\"color: #00af00; text-decoration-color: #00af00\">128</span>)            │             <span style=\"color: #00af00; text-decoration-color: #00af00\">0</span> │\n",
       "│ (<span style=\"color: #0087ff; text-decoration-color: #0087ff\">GlobalAveragePooling2D</span>)        │                        │               │\n",
       "├─────────────────────────────────┼────────────────────────┼───────────────┤\n",
       "│ dense (<span style=\"color: #0087ff; text-decoration-color: #0087ff\">Dense</span>)                   │ (<span style=\"color: #00d7ff; text-decoration-color: #00d7ff\">None</span>, <span style=\"color: #00af00; text-decoration-color: #00af00\">128</span>)            │        <span style=\"color: #00af00; text-decoration-color: #00af00\">16,512</span> │\n",
       "├─────────────────────────────────┼────────────────────────┼───────────────┤\n",
       "│ leaky_re_lu_2 (<span style=\"color: #0087ff; text-decoration-color: #0087ff\">LeakyReLU</span>)       │ (<span style=\"color: #00d7ff; text-decoration-color: #00d7ff\">None</span>, <span style=\"color: #00af00; text-decoration-color: #00af00\">128</span>)            │             <span style=\"color: #00af00; text-decoration-color: #00af00\">0</span> │\n",
       "├─────────────────────────────────┼────────────────────────┼───────────────┤\n",
       "│ dropout (<span style=\"color: #0087ff; text-decoration-color: #0087ff\">Dropout</span>)               │ (<span style=\"color: #00d7ff; text-decoration-color: #00d7ff\">None</span>, <span style=\"color: #00af00; text-decoration-color: #00af00\">128</span>)            │             <span style=\"color: #00af00; text-decoration-color: #00af00\">0</span> │\n",
       "├─────────────────────────────────┼────────────────────────┼───────────────┤\n",
       "│ dense_1 (<span style=\"color: #0087ff; text-decoration-color: #0087ff\">Dense</span>)                 │ (<span style=\"color: #00d7ff; text-decoration-color: #00d7ff\">None</span>, <span style=\"color: #00af00; text-decoration-color: #00af00\">4</span>)              │           <span style=\"color: #00af00; text-decoration-color: #00af00\">516</span> │\n",
       "└─────────────────────────────────┴────────────────────────┴───────────────┘\n",
       "</pre>\n"
      ],
      "text/plain": [
       "┏━━━━━━━━━━━━━━━━━━━━━━━━━━━━━━━━━┳━━━━━━━━━━━━━━━━━━━━━━━━┳━━━━━━━━━━━━━━━┓\n",
       "┃\u001b[1m \u001b[0m\u001b[1mLayer (type)                   \u001b[0m\u001b[1m \u001b[0m┃\u001b[1m \u001b[0m\u001b[1mOutput Shape          \u001b[0m\u001b[1m \u001b[0m┃\u001b[1m \u001b[0m\u001b[1m      Param #\u001b[0m\u001b[1m \u001b[0m┃\n",
       "┡━━━━━━━━━━━━━━━━━━━━━━━━━━━━━━━━━╇━━━━━━━━━━━━━━━━━━━━━━━━╇━━━━━━━━━━━━━━━┩\n",
       "│ mobilenet_1.00_224 (\u001b[38;5;33mFunctional\u001b[0m) │ (\u001b[38;5;45mNone\u001b[0m, \u001b[38;5;34m7\u001b[0m, \u001b[38;5;34m7\u001b[0m, \u001b[38;5;34m1024\u001b[0m)     │     \u001b[38;5;34m3,228,864\u001b[0m │\n",
       "├─────────────────────────────────┼────────────────────────┼───────────────┤\n",
       "│ conv2d (\u001b[38;5;33mConv2D\u001b[0m)                 │ (\u001b[38;5;45mNone\u001b[0m, \u001b[38;5;34m7\u001b[0m, \u001b[38;5;34m7\u001b[0m, \u001b[38;5;34m64\u001b[0m)       │       \u001b[38;5;34m589,888\u001b[0m │\n",
       "├─────────────────────────────────┼────────────────────────┼───────────────┤\n",
       "│ leaky_re_lu (\u001b[38;5;33mLeakyReLU\u001b[0m)         │ (\u001b[38;5;45mNone\u001b[0m, \u001b[38;5;34m7\u001b[0m, \u001b[38;5;34m7\u001b[0m, \u001b[38;5;34m64\u001b[0m)       │             \u001b[38;5;34m0\u001b[0m │\n",
       "├─────────────────────────────────┼────────────────────────┼───────────────┤\n",
       "│ batch_normalization             │ (\u001b[38;5;45mNone\u001b[0m, \u001b[38;5;34m7\u001b[0m, \u001b[38;5;34m7\u001b[0m, \u001b[38;5;34m64\u001b[0m)       │           \u001b[38;5;34m256\u001b[0m │\n",
       "│ (\u001b[38;5;33mBatchNormalization\u001b[0m)            │                        │               │\n",
       "├─────────────────────────────────┼────────────────────────┼───────────────┤\n",
       "│ max_pooling2d (\u001b[38;5;33mMaxPooling2D\u001b[0m)    │ (\u001b[38;5;45mNone\u001b[0m, \u001b[38;5;34m3\u001b[0m, \u001b[38;5;34m3\u001b[0m, \u001b[38;5;34m64\u001b[0m)       │             \u001b[38;5;34m0\u001b[0m │\n",
       "├─────────────────────────────────┼────────────────────────┼───────────────┤\n",
       "│ conv2d_1 (\u001b[38;5;33mConv2D\u001b[0m)               │ (\u001b[38;5;45mNone\u001b[0m, \u001b[38;5;34m3\u001b[0m, \u001b[38;5;34m3\u001b[0m, \u001b[38;5;34m128\u001b[0m)      │        \u001b[38;5;34m73,856\u001b[0m │\n",
       "├─────────────────────────────────┼────────────────────────┼───────────────┤\n",
       "│ leaky_re_lu_1 (\u001b[38;5;33mLeakyReLU\u001b[0m)       │ (\u001b[38;5;45mNone\u001b[0m, \u001b[38;5;34m3\u001b[0m, \u001b[38;5;34m3\u001b[0m, \u001b[38;5;34m128\u001b[0m)      │             \u001b[38;5;34m0\u001b[0m │\n",
       "├─────────────────────────────────┼────────────────────────┼───────────────┤\n",
       "│ batch_normalization_1           │ (\u001b[38;5;45mNone\u001b[0m, \u001b[38;5;34m3\u001b[0m, \u001b[38;5;34m3\u001b[0m, \u001b[38;5;34m128\u001b[0m)      │           \u001b[38;5;34m512\u001b[0m │\n",
       "│ (\u001b[38;5;33mBatchNormalization\u001b[0m)            │                        │               │\n",
       "├─────────────────────────────────┼────────────────────────┼───────────────┤\n",
       "│ max_pooling2d_1 (\u001b[38;5;33mMaxPooling2D\u001b[0m)  │ (\u001b[38;5;45mNone\u001b[0m, \u001b[38;5;34m1\u001b[0m, \u001b[38;5;34m1\u001b[0m, \u001b[38;5;34m128\u001b[0m)      │             \u001b[38;5;34m0\u001b[0m │\n",
       "├─────────────────────────────────┼────────────────────────┼───────────────┤\n",
       "│ global_average_pooling2d        │ (\u001b[38;5;45mNone\u001b[0m, \u001b[38;5;34m128\u001b[0m)            │             \u001b[38;5;34m0\u001b[0m │\n",
       "│ (\u001b[38;5;33mGlobalAveragePooling2D\u001b[0m)        │                        │               │\n",
       "├─────────────────────────────────┼────────────────────────┼───────────────┤\n",
       "│ dense (\u001b[38;5;33mDense\u001b[0m)                   │ (\u001b[38;5;45mNone\u001b[0m, \u001b[38;5;34m128\u001b[0m)            │        \u001b[38;5;34m16,512\u001b[0m │\n",
       "├─────────────────────────────────┼────────────────────────┼───────────────┤\n",
       "│ leaky_re_lu_2 (\u001b[38;5;33mLeakyReLU\u001b[0m)       │ (\u001b[38;5;45mNone\u001b[0m, \u001b[38;5;34m128\u001b[0m)            │             \u001b[38;5;34m0\u001b[0m │\n",
       "├─────────────────────────────────┼────────────────────────┼───────────────┤\n",
       "│ dropout (\u001b[38;5;33mDropout\u001b[0m)               │ (\u001b[38;5;45mNone\u001b[0m, \u001b[38;5;34m128\u001b[0m)            │             \u001b[38;5;34m0\u001b[0m │\n",
       "├─────────────────────────────────┼────────────────────────┼───────────────┤\n",
       "│ dense_1 (\u001b[38;5;33mDense\u001b[0m)                 │ (\u001b[38;5;45mNone\u001b[0m, \u001b[38;5;34m4\u001b[0m)              │           \u001b[38;5;34m516\u001b[0m │\n",
       "└─────────────────────────────────┴────────────────────────┴───────────────┘\n"
      ]
     },
     "metadata": {},
     "output_type": "display_data"
    },
    {
     "data": {
      "text/html": [
       "<pre style=\"white-space:pre;overflow-x:auto;line-height:normal;font-family:Menlo,'DejaVu Sans Mono',consolas,'Courier New',monospace\"><span style=\"font-weight: bold\"> Total params: </span><span style=\"color: #00af00; text-decoration-color: #00af00\">3,910,404</span> (14.92 MB)\n",
       "</pre>\n"
      ],
      "text/plain": [
       "\u001b[1m Total params: \u001b[0m\u001b[38;5;34m3,910,404\u001b[0m (14.92 MB)\n"
      ]
     },
     "metadata": {},
     "output_type": "display_data"
    },
    {
     "data": {
      "text/html": [
       "<pre style=\"white-space:pre;overflow-x:auto;line-height:normal;font-family:Menlo,'DejaVu Sans Mono',consolas,'Courier New',monospace\"><span style=\"font-weight: bold\"> Trainable params: </span><span style=\"color: #00af00; text-decoration-color: #00af00\">2,543,812</span> (9.70 MB)\n",
       "</pre>\n"
      ],
      "text/plain": [
       "\u001b[1m Trainable params: \u001b[0m\u001b[38;5;34m2,543,812\u001b[0m (9.70 MB)\n"
      ]
     },
     "metadata": {},
     "output_type": "display_data"
    },
    {
     "data": {
      "text/html": [
       "<pre style=\"white-space:pre;overflow-x:auto;line-height:normal;font-family:Menlo,'DejaVu Sans Mono',consolas,'Courier New',monospace\"><span style=\"font-weight: bold\"> Non-trainable params: </span><span style=\"color: #00af00; text-decoration-color: #00af00\">1,366,592</span> (5.21 MB)\n",
       "</pre>\n"
      ],
      "text/plain": [
       "\u001b[1m Non-trainable params: \u001b[0m\u001b[38;5;34m1,366,592\u001b[0m (5.21 MB)\n"
      ]
     },
     "metadata": {},
     "output_type": "display_data"
    }
   ],
   "source": [
    "# Buat model Sequential\n",
    "model = Sequential([\n",
    "    Input(shape=(224, 224, 3)),\n",
    "\n",
    "    # Tambahkan base MobileNet\n",
    "    mobilenet_base,\n",
    "\n",
    "    # Tambah custom conv layers (optional)\n",
    "    Conv2D(64, (3, 3), padding='same'),\n",
    "    LeakyReLU(negative_slope=0.1),\n",
    "    BatchNormalization(),\n",
    "    MaxPooling2D(pool_size=(2, 2)),\n",
    "\n",
    "    Conv2D(128, (3, 3), padding='same'),\n",
    "    LeakyReLU(negative_slope=0.1),\n",
    "    BatchNormalization(),\n",
    "    MaxPooling2D(pool_size=(2, 2)),\n",
    "\n",
    "    GlobalAveragePooling2D(),\n",
    "    Dense(128),\n",
    "    LeakyReLU(negative_slope=0.1),\n",
    "    Dropout(0.4),\n",
    "    Dense(num_classes, activation='softmax')\n",
    "])\n",
    "\n",
    "# Kompilasi model\n",
    "model.compile(\n",
    "    optimizer=Adam(learning_rate=1e-4),\n",
    "    loss='categorical_crossentropy',\n",
    "    metrics=['accuracy']\n",
    ")\n",
    "\n",
    "model.summary()"
   ]
  },
  {
   "cell_type": "code",
   "execution_count": 10,
   "metadata": {},
   "outputs": [
    {
     "name": "stdout",
     "output_type": "stream",
     "text": [
      "Epoch 1/10\n",
      "\u001b[1m35/35\u001b[0m \u001b[32m━━━━━━━━━━━━━━━━━━━━\u001b[0m\u001b[37m\u001b[0m \u001b[1m44s\u001b[0m 1s/step - accuracy: 0.6849 - loss: 0.7753 - val_accuracy: 0.8841 - val_loss: 0.3368 - learning_rate: 1.0000e-04\n",
      "Epoch 2/10\n",
      "\u001b[1m35/35\u001b[0m \u001b[32m━━━━━━━━━━━━━━━━━━━━\u001b[0m\u001b[37m\u001b[0m \u001b[1m35s\u001b[0m 989ms/step - accuracy: 0.9007 - loss: 0.2999 - val_accuracy: 0.9185 - val_loss: 0.1729 - learning_rate: 1.0000e-04\n",
      "Epoch 3/10\n",
      "\u001b[1m35/35\u001b[0m \u001b[32m━━━━━━━━━━━━━━━━━━━━\u001b[0m\u001b[37m\u001b[0m \u001b[1m36s\u001b[0m 1s/step - accuracy: 0.9318 - loss: 0.2134 - val_accuracy: 0.9399 - val_loss: 0.1364 - learning_rate: 1.0000e-04\n",
      "Epoch 4/10\n",
      "\u001b[1m35/35\u001b[0m \u001b[32m━━━━━━━━━━━━━━━━━━━━\u001b[0m\u001b[37m\u001b[0m \u001b[1m34s\u001b[0m 964ms/step - accuracy: 0.9622 - loss: 0.1348 - val_accuracy: 0.9571 - val_loss: 0.1029 - learning_rate: 1.0000e-04\n",
      "Epoch 5/10\n",
      "\u001b[1m35/35\u001b[0m \u001b[32m━━━━━━━━━━━━━━━━━━━━\u001b[0m\u001b[37m\u001b[0m \u001b[1m35s\u001b[0m 1s/step - accuracy: 0.9637 - loss: 0.1169 - val_accuracy: 0.9700 - val_loss: 0.0752 - learning_rate: 1.0000e-04\n",
      "Epoch 6/10\n",
      "\u001b[1m35/35\u001b[0m \u001b[32m━━━━━━━━━━━━━━━━━━━━\u001b[0m\u001b[37m\u001b[0m \u001b[1m34s\u001b[0m 979ms/step - accuracy: 0.9683 - loss: 0.0963 - val_accuracy: 0.9742 - val_loss: 0.0749 - learning_rate: 1.0000e-04\n",
      "Epoch 7/10\n",
      "\u001b[1m35/35\u001b[0m \u001b[32m━━━━━━━━━━━━━━━━━━━━\u001b[0m\u001b[37m\u001b[0m \u001b[1m34s\u001b[0m 963ms/step - accuracy: 0.9806 - loss: 0.0715 - val_accuracy: 0.9657 - val_loss: 0.1010 - learning_rate: 1.0000e-04\n",
      "Epoch 8/10\n",
      "\u001b[1m35/35\u001b[0m \u001b[32m━━━━━━━━━━━━━━━━━━━━\u001b[0m\u001b[37m\u001b[0m \u001b[1m34s\u001b[0m 964ms/step - accuracy: 0.9818 - loss: 0.0616 - val_accuracy: 0.9700 - val_loss: 0.0841 - learning_rate: 1.0000e-04\n",
      "Epoch 9/10\n",
      "\u001b[1m35/35\u001b[0m \u001b[32m━━━━━━━━━━━━━━━━━━━━\u001b[0m\u001b[37m\u001b[0m \u001b[1m0s\u001b[0m 846ms/step - accuracy: 0.9884 - loss: 0.0434\n",
      "Epoch 9: ReduceLROnPlateau reducing learning rate to 4.999999873689376e-05.\n",
      "\u001b[1m35/35\u001b[0m \u001b[32m━━━━━━━━━━━━━━━━━━━━\u001b[0m\u001b[37m\u001b[0m \u001b[1m34s\u001b[0m 968ms/step - accuracy: 0.9884 - loss: 0.0435 - val_accuracy: 0.9700 - val_loss: 0.0914 - learning_rate: 1.0000e-04\n",
      "Epoch 10/10\n",
      "\u001b[1m35/35\u001b[0m \u001b[32m━━━━━━━━━━━━━━━━━━━━\u001b[0m\u001b[37m\u001b[0m \u001b[1m34s\u001b[0m 958ms/step - accuracy: 0.9913 - loss: 0.0398 - val_accuracy: 0.9700 - val_loss: 0.0948 - learning_rate: 5.0000e-05\n"
     ]
    }
   ],
   "source": [
    "callbacks = [\n",
    "    EarlyStopping(patience=5, restore_best_weights=True),\n",
    "    ModelCheckpoint(\"best_model_mobilenet.keras\", save_best_only=True),\n",
    "    ReduceLROnPlateau(factor=0.5, patience=3, min_lr=1e-6, verbose=1),\n",
    "]\n",
    "\n",
    "history = model.fit(\n",
    "    train_generator,\n",
    "    validation_data=val_generator,\n",
    "    epochs=10,\n",
    "    callbacks=callbacks\n",
    ")"
   ]
  },
  {
   "cell_type": "markdown",
   "metadata": {
    "id": "XctzCfzbYCBK"
   },
   "source": [
    "## Evaluasi dan Visualisasi"
   ]
  },
  {
   "cell_type": "code",
   "execution_count": 11,
   "metadata": {
    "id": "EKk-ScZWYCBK"
   },
   "outputs": [
    {
     "name": "stdout",
     "output_type": "stream",
     "text": [
      "\u001b[1m35/35\u001b[0m \u001b[32m━━━━━━━━━━━━━━━━━━━━\u001b[0m\u001b[37m\u001b[0m \u001b[1m26s\u001b[0m 733ms/step - accuracy: 0.9909 - loss: 0.0288\n",
      "\u001b[1m8/8\u001b[0m \u001b[32m━━━━━━━━━━━━━━━━━━━━\u001b[0m\u001b[37m\u001b[0m \u001b[1m5s\u001b[0m 672ms/step - accuracy: 0.9933 - loss: 0.0304\n",
      "\n",
      "📊 Train Accuracy: 98.91%\n",
      "📊 Test Accuracy: 99.17%\n"
     ]
    }
   ],
   "source": [
    "# Evaluasi Train & Test\n",
    "train_loss, train_acc = model.evaluate(train_generator)\n",
    "test_loss, test_acc = model.evaluate(test_generator)\n",
    "\n",
    "print(f\"\\n📊 Train Accuracy: {train_acc*100:.2f}%\")\n",
    "print(f\"📊 Test Accuracy: {test_acc*100:.2f}%\")"
   ]
  },
  {
   "cell_type": "code",
   "execution_count": 12,
   "metadata": {},
   "outputs": [
    {
     "data": {
      "image/png": "[encoded data removed]",
      "text/plain": [
       "<Figure size 640x480 with 1 Axes>"
      ]
     },
     "metadata": {},
     "output_type": "display_data"
    },
    {
     "data": {
      "image/png": "[encoded data removed]",
      "text/plain": [
       "<Figure size 640x480 with 1 Axes>"
      ]
     },
     "metadata": {},
     "output_type": "display_data"
    }
   ],
   "source": [
    "# Plot akurasi & loss\n",
    "def plot_training_history(history):\n",
    "    acc = history.history['accuracy']\n",
    "    val_acc = history.history['val_accuracy']\n",
    "    loss = history.history['loss']\n",
    "    val_loss = history.history['val_loss']\n",
    "    epochs = range(1, len(acc) + 1)\n",
    "\n",
    "    plt.figure()\n",
    "    plt.plot(epochs, acc, 'b', label='Training acc')\n",
    "    plt.plot(epochs, val_acc, 'g', label='Validation acc')\n",
    "    plt.title('Training and validation accuracy')\n",
    "    plt.legend()\n",
    "    plt.show()\n",
    "\n",
    "    plt.figure()\n",
    "    plt.plot(epochs, loss, 'b', label='Training loss')\n",
    "    plt.plot(epochs, val_loss, 'g', label='Validation loss')\n",
    "    plt.title('Training and validation loss')\n",
    "    plt.legend()\n",
    "    plt.show()\n",
    "\n",
    "plot_training_history(history)"
   ]
  },
  {
   "cell_type": "code",
   "execution_count": 13,
   "metadata": {},
   "outputs": [
    {
     "name": "stdout",
     "output_type": "stream",
     "text": [
      "\u001b[1m8/8\u001b[0m \u001b[32m━━━━━━━━━━━━━━━━━━━━\u001b[0m\u001b[37m\u001b[0m \u001b[1m5s\u001b[0m 548ms/step\n"
     ]
    },
    {
     "data": {
      "image/png": "[encoded data removed]",
      "text/plain": [
       "<Figure size 1000x800 with 2 Axes>"
      ]
     },
     "metadata": {},
     "output_type": "display_data"
    },
    {
     "name": "stdout",
     "output_type": "stream",
     "text": [
      "\n",
      "Classification Report:\n",
      "\n",
      "                     precision    recall  f1-score   support\n",
      "\n",
      "       eiffel_tower       1.00      1.00      1.00        60\n",
      "great_wall_of_china       0.98      0.98      0.98        60\n",
      "        machu_pichu       0.98      0.98      0.98        60\n",
      "    roman_colosseum       1.00      1.00      1.00        60\n",
      "\n",
      "           accuracy                           0.99       240\n",
      "          macro avg       0.99      0.99      0.99       240\n",
      "       weighted avg       0.99      0.99      0.99       240\n",
      "\n"
     ]
    }
   ],
   "source": [
    "# Confusion matrix\n",
    "def plot_confusion_matrix(model, test_generator):\n",
    "    Y_pred = model.predict(test_generator)\n",
    "    y_pred = np.argmax(Y_pred, axis=1)\n",
    "    cm = confusion_matrix(test_generator.classes, y_pred)\n",
    "    class_names = list(test_generator.class_indices.keys())\n",
    "\n",
    "    plt.figure(figsize=(10, 8))\n",
    "    sns.heatmap(cm, annot=True, fmt='d', xticklabels=class_names, yticklabels=class_names, cmap=\"Blues\")\n",
    "    plt.title(\"Confusion Matrix\")\n",
    "    plt.ylabel('True label')\n",
    "    plt.xlabel('Predicted label')\n",
    "    plt.show()\n",
    "\n",
    "    print(\"\\nClassification Report:\\n\")\n",
    "    print(classification_report(test_generator.classes, y_pred, target_names=class_names))\n",
    "\n",
    "plot_confusion_matrix(model, test_generator)"
   ]
  },
  {
   "cell_type": "markdown",
   "metadata": {},
   "source": [
    "Analisis\n",
    "Berdasarkan hasil dari data tersebut dihasilkan :\n",
    "\n",
    "🔹 Akurasi train vs test hampir sama tinggi (98.91% vs 99.17%)\n",
    "\n",
    "🔹 Loss train vs test juga hampir sama (0.0288 vs 0.0304)\n",
    "\n",
    "🔹 Classification report memperlihatkan skor f1, precision, dan recall yang konsisten di semua kelas"
   ]
  },
  {
   "cell_type": "markdown",
   "metadata": {
    "id": "y_fIsUogYFSk"
   },
   "source": [
    "## Konversi Model"
   ]
  },
  {
   "cell_type": "code",
   "execution_count": 14,
   "metadata": {},
   "outputs": [
    {
     "name": "stdout",
     "output_type": "stream",
     "text": [
      "INFO:tensorflow:Assets written to: submission/saved_model\\assets\n"
     ]
    },
    {
     "name": "stderr",
     "output_type": "stream",
     "text": [
      "INFO:tensorflow:Assets written to: submission/saved_model\\assets\n"
     ]
    },
    {
     "name": "stdout",
     "output_type": "stream",
     "text": [
      "Saved artifact at 'submission/saved_model'. The following endpoints are available:\n",
      "\n",
      "* Endpoint 'serve'\n",
      "  args_0 (POSITIONAL_ONLY): TensorSpec(shape=(None, 224, 224, 3), dtype=tf.float32, name='keras_tensor_86')\n",
      "Output Type:\n",
      "  TensorSpec(shape=(None, 4), dtype=tf.float32, name=None)\n",
      "Captures:\n",
      "  2196111217232: TensorSpec(shape=(), dtype=tf.resource, name=None)\n",
      "  2196111221264: TensorSpec(shape=(), dtype=tf.resource, name=None)\n",
      "  2196111221648: TensorSpec(shape=(), dtype=tf.resource, name=None)\n",
      "  2196111220880: TensorSpec(shape=(), dtype=tf.resource, name=None)\n",
      "  2196111220112: TensorSpec(shape=(), dtype=tf.resource, name=None)\n",
      "  2196111221456: TensorSpec(shape=(), dtype=tf.resource, name=None)\n",
      "  2196111221072: TensorSpec(shape=(), dtype=tf.resource, name=None)\n",
      "  2196111218768: TensorSpec(shape=(), dtype=tf.resource, name=None)\n",
      "  2196111222224: TensorSpec(shape=(), dtype=tf.resource, name=None)\n",
      "  2196111219920: TensorSpec(shape=(), dtype=tf.resource, name=None)\n",
      "  2196111222608: TensorSpec(shape=(), dtype=tf.resource, name=None)\n",
      "  2196111224144: TensorSpec(shape=(), dtype=tf.resource, name=None)\n",
      "  2196111220304: TensorSpec(shape=(), dtype=tf.resource, name=None)\n",
      "  2196111220688: TensorSpec(shape=(), dtype=tf.resource, name=None)\n",
      "  2196111223184: TensorSpec(shape=(), dtype=tf.resource, name=None)\n",
      "  2196111226832: TensorSpec(shape=(), dtype=tf.resource, name=None)\n",
      "  2196111227792: TensorSpec(shape=(), dtype=tf.resource, name=None)\n",
      "  2196111227600: TensorSpec(shape=(), dtype=tf.resource, name=None)\n",
      "  2196111228368: TensorSpec(shape=(), dtype=tf.resource, name=None)\n",
      "  2196111227024: TensorSpec(shape=(), dtype=tf.resource, name=None)\n",
      "  2196111226640: TensorSpec(shape=(), dtype=tf.resource, name=None)\n",
      "  2196134675280: TensorSpec(shape=(), dtype=tf.resource, name=None)\n",
      "  2196134675088: TensorSpec(shape=(), dtype=tf.resource, name=None)\n",
      "  2196134675472: TensorSpec(shape=(), dtype=tf.resource, name=None)\n",
      "  2196134676048: TensorSpec(shape=(), dtype=tf.resource, name=None)\n",
      "  2196134677584: TensorSpec(shape=(), dtype=tf.resource, name=None)\n",
      "  2196134677968: TensorSpec(shape=(), dtype=tf.resource, name=None)\n",
      "  2196134678352: TensorSpec(shape=(), dtype=tf.resource, name=None)\n",
      "  2196134678160: TensorSpec(shape=(), dtype=tf.resource, name=None)\n",
      "  2196134674896: TensorSpec(shape=(), dtype=tf.resource, name=None)\n",
      "  2196134679504: TensorSpec(shape=(), dtype=tf.resource, name=None)\n",
      "  2196134679888: TensorSpec(shape=(), dtype=tf.resource, name=None)\n",
      "  2196134680272: TensorSpec(shape=(), dtype=tf.resource, name=None)\n",
      "  2196134680080: TensorSpec(shape=(), dtype=tf.resource, name=None)\n",
      "  2196134676432: TensorSpec(shape=(), dtype=tf.resource, name=None)\n",
      "  2196134681424: TensorSpec(shape=(), dtype=tf.resource, name=None)\n",
      "  2196134681808: TensorSpec(shape=(), dtype=tf.resource, name=None)\n",
      "  2196134682192: TensorSpec(shape=(), dtype=tf.resource, name=None)\n",
      "  2196134682000: TensorSpec(shape=(), dtype=tf.resource, name=None)\n",
      "  2196134677200: TensorSpec(shape=(), dtype=tf.resource, name=None)\n",
      "  2196134679120: TensorSpec(shape=(), dtype=tf.resource, name=None)\n",
      "  2196134683920: TensorSpec(shape=(), dtype=tf.resource, name=None)\n",
      "  2196134684304: TensorSpec(shape=(), dtype=tf.resource, name=None)\n",
      "  2196134684112: TensorSpec(shape=(), dtype=tf.resource, name=None)\n",
      "  2196134680656: TensorSpec(shape=(), dtype=tf.resource, name=None)\n",
      "  2196134682960: TensorSpec(shape=(), dtype=tf.resource, name=None)\n",
      "  2196134686032: TensorSpec(shape=(), dtype=tf.resource, name=None)\n",
      "  2196134686416: TensorSpec(shape=(), dtype=tf.resource, name=None)\n",
      "  2196134686224: TensorSpec(shape=(), dtype=tf.resource, name=None)\n",
      "  2196134683344: TensorSpec(shape=(), dtype=tf.resource, name=None)\n",
      "  2196134687568: TensorSpec(shape=(), dtype=tf.resource, name=None)\n",
      "  2196134687952: TensorSpec(shape=(), dtype=tf.resource, name=None)\n",
      "  2196134688336: TensorSpec(shape=(), dtype=tf.resource, name=None)\n",
      "  2196134688144: TensorSpec(shape=(), dtype=tf.resource, name=None)\n",
      "  2196134685072: TensorSpec(shape=(), dtype=tf.resource, name=None)\n",
      "  2196134689488: TensorSpec(shape=(), dtype=tf.resource, name=None)\n",
      "  2196134689872: TensorSpec(shape=(), dtype=tf.resource, name=None)\n",
      "  2196134690640: TensorSpec(shape=(), dtype=tf.resource, name=None)\n",
      "  2196134690064: TensorSpec(shape=(), dtype=tf.resource, name=None)\n",
      "  2196134685648: TensorSpec(shape=(), dtype=tf.resource, name=None)\n",
      "  2196134683536: TensorSpec(shape=(), dtype=tf.resource, name=None)\n",
      "  2196135035920: TensorSpec(shape=(), dtype=tf.resource, name=None)\n",
      "  2196135034960: TensorSpec(shape=(), dtype=tf.resource, name=None)\n",
      "  2196134687184: TensorSpec(shape=(), dtype=tf.resource, name=None)\n",
      "  2196135035152: TensorSpec(shape=(), dtype=tf.resource, name=None)\n",
      "  2196135037456: TensorSpec(shape=(), dtype=tf.resource, name=None)\n",
      "  2196135037840: TensorSpec(shape=(), dtype=tf.resource, name=None)\n",
      "  2196135038224: TensorSpec(shape=(), dtype=tf.resource, name=None)\n",
      "  2196135038032: TensorSpec(shape=(), dtype=tf.resource, name=None)\n",
      "  2196135035344: TensorSpec(shape=(), dtype=tf.resource, name=None)\n",
      "  2196135039376: TensorSpec(shape=(), dtype=tf.resource, name=None)\n",
      "  2196135039760: TensorSpec(shape=(), dtype=tf.resource, name=None)\n",
      "  2196135040144: TensorSpec(shape=(), dtype=tf.resource, name=None)\n",
      "  2196135039952: TensorSpec(shape=(), dtype=tf.resource, name=None)\n",
      "  2196135036304: TensorSpec(shape=(), dtype=tf.resource, name=None)\n",
      "  2196135041296: TensorSpec(shape=(), dtype=tf.resource, name=None)\n",
      "  2196135041680: TensorSpec(shape=(), dtype=tf.resource, name=None)\n",
      "  2196135042064: TensorSpec(shape=(), dtype=tf.resource, name=None)\n",
      "  2196135041872: TensorSpec(shape=(), dtype=tf.resource, name=None)\n",
      "  2196135037072: TensorSpec(shape=(), dtype=tf.resource, name=None)\n",
      "  2196135043216: TensorSpec(shape=(), dtype=tf.resource, name=None)\n",
      "  2196135043600: TensorSpec(shape=(), dtype=tf.resource, name=None)\n",
      "  2196135043984: TensorSpec(shape=(), dtype=tf.resource, name=None)\n",
      "  2196135043792: TensorSpec(shape=(), dtype=tf.resource, name=None)\n",
      "  2196135038992: TensorSpec(shape=(), dtype=tf.resource, name=None)\n",
      "  2196135045136: TensorSpec(shape=(), dtype=tf.resource, name=None)\n",
      "  2196135045520: TensorSpec(shape=(), dtype=tf.resource, name=None)\n",
      "  2196135045904: TensorSpec(shape=(), dtype=tf.resource, name=None)\n",
      "  2196135045712: TensorSpec(shape=(), dtype=tf.resource, name=None)\n",
      "  2196135040912: TensorSpec(shape=(), dtype=tf.resource, name=None)\n",
      "  2196135047056: TensorSpec(shape=(), dtype=tf.resource, name=None)\n",
      "  2196135047440: TensorSpec(shape=(), dtype=tf.resource, name=None)\n",
      "  2196135047824: TensorSpec(shape=(), dtype=tf.resource, name=None)\n",
      "  2196135047632: TensorSpec(shape=(), dtype=tf.resource, name=None)\n",
      "  2196135042832: TensorSpec(shape=(), dtype=tf.resource, name=None)\n",
      "  2196135048976: TensorSpec(shape=(), dtype=tf.resource, name=None)\n",
      "  2196135049360: TensorSpec(shape=(), dtype=tf.resource, name=None)\n",
      "  2196135049744: TensorSpec(shape=(), dtype=tf.resource, name=None)\n",
      "  2196135049552: TensorSpec(shape=(), dtype=tf.resource, name=None)\n",
      "  2196135044752: TensorSpec(shape=(), dtype=tf.resource, name=None)\n",
      "  2196135050896: TensorSpec(shape=(), dtype=tf.resource, name=None)\n",
      "  2196135035728: TensorSpec(shape=(), dtype=tf.resource, name=None)\n",
      "  2196135412176: TensorSpec(shape=(), dtype=tf.resource, name=None)\n",
      "  2196135050512: TensorSpec(shape=(), dtype=tf.resource, name=None)\n",
      "  2196135048592: TensorSpec(shape=(), dtype=tf.resource, name=None)\n",
      "  2196135413328: TensorSpec(shape=(), dtype=tf.resource, name=None)\n",
      "  2196135413712: TensorSpec(shape=(), dtype=tf.resource, name=None)\n",
      "  2196135414096: TensorSpec(shape=(), dtype=tf.resource, name=None)\n",
      "  2196135413904: TensorSpec(shape=(), dtype=tf.resource, name=None)\n",
      "  2196135412560: TensorSpec(shape=(), dtype=tf.resource, name=None)\n",
      "  2196135415248: TensorSpec(shape=(), dtype=tf.resource, name=None)\n",
      "  2196135415632: TensorSpec(shape=(), dtype=tf.resource, name=None)\n",
      "  2196135416016: TensorSpec(shape=(), dtype=tf.resource, name=None)\n",
      "  2196135415824: TensorSpec(shape=(), dtype=tf.resource, name=None)\n",
      "  2196135412752: TensorSpec(shape=(), dtype=tf.resource, name=None)\n",
      "  2196135417168: TensorSpec(shape=(), dtype=tf.resource, name=None)\n",
      "  2196135417552: TensorSpec(shape=(), dtype=tf.resource, name=None)\n",
      "  2196135417936: TensorSpec(shape=(), dtype=tf.resource, name=None)\n",
      "  2196135417744: TensorSpec(shape=(), dtype=tf.resource, name=None)\n",
      "  2196135411792: TensorSpec(shape=(), dtype=tf.resource, name=None)\n",
      "  2196135419088: TensorSpec(shape=(), dtype=tf.resource, name=None)\n",
      "  2196135419472: TensorSpec(shape=(), dtype=tf.resource, name=None)\n",
      "  2196135419856: TensorSpec(shape=(), dtype=tf.resource, name=None)\n",
      "  2196135419664: TensorSpec(shape=(), dtype=tf.resource, name=None)\n",
      "  2196135414864: TensorSpec(shape=(), dtype=tf.resource, name=None)\n",
      "  2196135421008: TensorSpec(shape=(), dtype=tf.resource, name=None)\n",
      "  2196135421392: TensorSpec(shape=(), dtype=tf.resource, name=None)\n",
      "  2196135421776: TensorSpec(shape=(), dtype=tf.resource, name=None)\n",
      "  2196135421584: TensorSpec(shape=(), dtype=tf.resource, name=None)\n",
      "  2196135416784: TensorSpec(shape=(), dtype=tf.resource, name=None)\n",
      "  2196135422928: TensorSpec(shape=(), dtype=tf.resource, name=None)\n",
      "  2196135423312: TensorSpec(shape=(), dtype=tf.resource, name=None)\n",
      "  2196135423696: TensorSpec(shape=(), dtype=tf.resource, name=None)\n",
      "  2196135423504: TensorSpec(shape=(), dtype=tf.resource, name=None)\n",
      "  2196135418704: TensorSpec(shape=(), dtype=tf.resource, name=None)\n",
      "  2196135425040: TensorSpec(shape=(), dtype=tf.resource, name=None)\n",
      "  2196135426576: TensorSpec(shape=(), dtype=tf.resource, name=None)\n",
      "  2196135426768: TensorSpec(shape=(), dtype=tf.resource, name=None)\n",
      "  2196135426000: TensorSpec(shape=(), dtype=tf.resource, name=None)\n",
      "  2196135422160: TensorSpec(shape=(), dtype=tf.resource, name=None)\n",
      "  2196135426384: TensorSpec(shape=(), dtype=tf.resource, name=None)\n",
      "  2196135412944: TensorSpec(shape=(), dtype=tf.resource, name=None)\n",
      "  2196135427920: TensorSpec(shape=(), dtype=tf.resource, name=None)\n",
      "  2196167820304: TensorSpec(shape=(), dtype=tf.resource, name=None)\n",
      "  2196167819728: TensorSpec(shape=(), dtype=tf.resource, name=None)\n",
      "  2196135425616: TensorSpec(shape=(), dtype=tf.resource, name=None)\n",
      "  2196167819920: TensorSpec(shape=(), dtype=tf.resource, name=None)\n",
      "  2196167821840: TensorSpec(shape=(), dtype=tf.resource, name=None)\n",
      "  2196167822416: TensorSpec(shape=(), dtype=tf.resource, name=None)\n",
      "  2196167821456: TensorSpec(shape=(), dtype=tf.resource, name=None)\n",
      "  2196167823184: TensorSpec(shape=(), dtype=tf.resource, name=None)\n"
     ]
    }
   ],
   "source": [
    "model.export('submission/saved_model')"
   ]
  },
  {
   "cell_type": "code",
   "execution_count": 15,
   "metadata": {},
   "outputs": [],
   "source": [
    "# Konversi ke TFLite\n",
    "converter = tf.lite.TFLiteConverter.from_saved_model(\"submission/saved_model\")\n",
    "tflite_model = converter.convert()\n",
    "os.makedirs(\"submission/tflite\", exist_ok=True)\n",
    "with open(\"submission/tflite/model.tflite\", \"wb\") as f:\n",
    "    f.write(tflite_model)\n"
   ]
  },
  {
   "cell_type": "code",
   "execution_count": 16,
   "metadata": {},
   "outputs": [],
   "source": [
    "# Save labels\n",
    "class_names = list(train_generator.class_indices.keys())\n",
    "with open(\"submission/tflite/label.txt\", \"w\") as f:\n",
    "    for item in class_names:\n",
    "        f.write(\"%s\\n\" % item)"
   ]
  },
  {
   "cell_type": "code",
   "execution_count": 9,
   "metadata": {},
   "outputs": [
    {
     "name": "stdout",
     "output_type": "stream",
     "text": [
      "Writing weight file submission/tfjs_model\\model.json...\n"
     ]
    },
    {
     "name": "stderr",
     "output_type": "stream",
     "text": [
      "2025-05-08 23:13:37.565421: I tensorflow/core/platform/cpu_feature_guard.cc:182] This TensorFlow binary is optimized to use available CPU instructions in performance-critical operations.\n",
      "To enable the following instructions: SSE SSE2 SSE3 SSE4.1 SSE4.2 AVX AVX2 FMA, in other operations, rebuild TensorFlow with the appropriate compiler flags.\n",
      "2025-05-08 23:13:38.682317: I tensorflow/core/grappler/devices.cc:75] Number of eligible GPUs (core count >= 8, compute capability >= 0.0): 0 (Note: TensorFlow was not compiled with CUDA or ROCm support)\n",
      "2025-05-08 23:13:38.682459: I tensorflow/core/grappler/clusters/single_machine.cc:357] Starting new session\n"
     ]
    }
   ],
   "source": [
    "!tensorflowjs_converter --input_format=tf_saved_model --output_format=tfjs_graph_model submission/saved_model submission/tfjs_model"
   ]
  },
  {
   "cell_type": "code",
   "execution_count": 22,
   "metadata": {},
   "outputs": [],
   "source": [
    "# Simpan file requirements\n",
    "with open(\"submission/requirements.txt\", \"w\") as f:\n",
    "    f.write(\"\\n\".join([\n",
    "        \"tensorflow\",\n",
    "        \"split-folders\",\n",
    "        \"tensorflowjs\"\n",
    "    ]))"
   ]
  },
  {
   "cell_type": "markdown",
   "metadata": {
    "id": "8DbfEwvvm5U4"
   },
   "source": [
    "## Inference (Optional)"
   ]
  }
 ],
 "metadata": {
  "colab": {
   "provenance": []
  },
  "kernelspec": {
   "display_name": "Python [conda env:base] *",
   "language": "python",
   "name": "conda-base-py"
  },
  "language_info": {
   "codemirror_mode": {
    "name": "ipython",
    "version": 3
   },
   "file_extension": ".py",
   "mimetype": "text/x-python",
   "name": "python",
   "nbconvert_exporter": "python",
   "pygments_lexer": "ipython3",
   "version": "3.12.7"
  }
 },
 "nbformat": 4,
 "nbformat_minor": 4
}
